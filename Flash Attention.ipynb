{
 "cells": [
  {
   "cell_type": "markdown",
   "id": "1869d68c",
   "metadata": {},
   "source": [
    "# Flash Attention\n",
    "\n",
    "Objective of this notebook is to understand how flash attention works by implementing it in pytorch. This implementation is **NOT** meant to improve performance. I did this exercise to understand the concept and spelling it out in code helps me better understand and retain information."
   ]
  },
  {
   "cell_type": "code",
   "execution_count": 13,
   "id": "a9e8fa77",
   "metadata": {},
   "outputs": [],
   "source": [
    "import torch\n",
    "import torch.nn as nn"
   ]
  },
  {
   "cell_type": "markdown",
   "id": "631026f3",
   "metadata": {},
   "source": [
    "## Online Softmax\n",
    "\n",
    "Before getting the details of flash attentions its important to understand \"online softmax\" since its a key component of Flash Attention.\n",
    "\n",
    "Before is an implementation of softmax in pytorch"
   ]
  },
  {
   "cell_type": "markdown",
   "id": "25173c77",
   "metadata": {},
   "source": [
    "### Softmax"
   ]
  },
  {
   "cell_type": "code",
   "execution_count": 14,
   "id": "d73168fe",
   "metadata": {},
   "outputs": [],
   "source": [
    "def softmax(x: torch.tensor) -> torch.tensor:\n",
    "    max_x = torch.max(x, dim=-1, keepdims=True)[0] # extracting the value\n",
    "    exp_x = torch.exp(x - max_x)\n",
    "    sum_exp_x = torch.sum(exp_x, dim=-1, keepdims=True)\n",
    "    return exp_x / (sum_exp_x)"
   ]
  },
  {
   "cell_type": "code",
   "execution_count": 15,
   "id": "1ba755cb",
   "metadata": {},
   "outputs": [
    {
     "data": {
      "text/plain": [
       "True"
      ]
     },
     "execution_count": 15,
     "metadata": {},
     "output_type": "execute_result"
    }
   ],
   "source": [
    "# Check Correctness with PyTorch Softmax\n",
    "x = torch.randn(1, 20)\n",
    "y_py = softmax(x)\n",
    "y_pyt = torch.softmax(x, dim=-1,)\n",
    "torch.allclose(y_py, y_pyt)"
   ]
  },
  {
   "cell_type": "markdown",
   "id": "b9a98c0f",
   "metadata": {},
   "source": [
    "### Naive Softmax\n",
    "\n",
    "If we look closely at the above implementation, pytorch makes the implementation very easy but underneath there are 3 for-loops that are running sequentially.\n",
    "1. compute max of the row.\n",
    "2. compute the sum of the diff of each element and max.\n",
    "3. compute the exp of each element and divide by the sum computed in step 2.\n",
    "\n",
    "\n",
    "See below implementation"
   ]
  },
  {
   "cell_type": "code",
   "execution_count": null,
   "id": "cf9dc771",
   "metadata": {},
   "outputs": [],
   "source": [
    "# %%timeit\n",
    "# Naive Softmax\n",
    "\n",
    "torch.manual_seed(123)\n",
    "x = torch.randn(2000)\n",
    "naive_sf = torch.empty_like(x)\n",
    "#print(\"---- Input -----\")\n",
    "#print(x)\n",
    "\n",
    "m = torch.tensor(float('-inf'))\n",
    "\n",
    "# 1.\n",
    "for i in range(x.shape[0]):\n",
    "    m = torch.max(m, x[i])\n",
    "\n",
    "# print(\"---- Max ----\")\n",
    "# print(m)\n",
    "exp_sum = 0\n",
    "\n",
    "# 2.\n",
    "for i in range(x.shape[0]):\n",
    "    exp_sum += torch.exp(x[i] - m)\n",
    "\n",
    "# print(\"---- Sum ----\")\n",
    "# print(exp_sum)\n",
    "\n",
    "# 3.\n",
    "for i in range(x.shape[0]):\n",
    "    naive_sf[i] = torch.exp(x[i] - m) / exp_sum\n",
    "\n",
    "# print(\"---- Softmax ----\")\n",
    "# print(out)\n"
   ]
  },
  {
   "cell_type": "markdown",
   "id": "66435f65",
   "metadata": {},
   "source": [
    "### Online Softmax\n",
    "paper link - https://arxiv.org/abs/1805.02867\n",
    "Goal of this paper is to parallelize softmax to improve performance. The problem with the naive implementation is step 1 and step 2 are dependent and hence sequential. However this doesn't have to be the case. We can compute a max of a small block and compute the exp_sum for the local block. But the local max may not be the global max, right? \\\n",
    "Turns out to adjust for this difference, we just need to scale the `exp_sum` with $e^{(max\\_prev - max\\_new)}$\n",
    "\n",
    "See below implementation"
   ]
  },
  {
   "cell_type": "code",
   "execution_count": null,
   "id": "156f6f89",
   "metadata": {},
   "outputs": [],
   "source": [
    "# %%timeit\n",
    "# Online Softmax\n",
    "\n",
    "torch.manual_seed(123)\n",
    "x = torch.randn(2000)\n",
    "online_sf = torch.empty_like(x)\n",
    "# print(\"---- Input -----\")\n",
    "# print(x)\n",
    "\n",
    "m = torch.tensor(float('-inf'))\n",
    "exp_sum = torch.tensor(0.0)\n",
    "\n",
    "for i in range(x.shape[0]):\n",
    "    m_prev = m\n",
    "    m = torch.max(m_prev, x[i])\n",
    "    exp_sum = (exp_sum * torch.exp(m_prev - m) + torch.exp(x[i] - m))\n",
    "\n",
    "# print(\"---- Max ----\")\n",
    "# print(m)\n",
    "\n",
    "# print(\"---- Sum ----\")\n",
    "# print(exp_sum)\n",
    "\n",
    "for i in range(x.shape[0]):\n",
    "    online_sf[i] = torch.exp(x[i] - m) / exp_sum\n",
    "\n",
    "# print(\"---- Out ----\")\n",
    "# print(out)\n",
    "    "
   ]
  },
  {
   "cell_type": "code",
   "execution_count": null,
   "id": "3ef3dac0",
   "metadata": {
    "collapsed": true
   },
   "outputs": [],
   "source": [
    "torch.allclose(online_sf, naive_sf)"
   ]
  },
  {
   "attachments": {
    "image.png": {
     "image/png": "[encoded data removed]"
    }
   },
   "cell_type": "markdown",
   "id": "651973c4",
   "metadata": {},
   "source": [
    "### Scaled Dot Product\n",
    "![image.png](attachment:image.png)\n",
    "<img src=\"images/img2.png\" width=\"300\" height=\"80\">"
   ]
  },
  {
   "cell_type": "code",
   "execution_count": 16,
   "id": "0fe4a0c1",
   "metadata": {},
   "outputs": [
    {
     "data": {
      "text/plain": [
       "torch.Size([20, 10])"
      ]
     },
     "execution_count": 16,
     "metadata": {},
     "output_type": "execute_result"
    }
   ],
   "source": [
    "import torch\n",
    "torch.manual_seed(123)\n",
    "N, d = 20, 10\n",
    "q = torch.rand(N, d)\n",
    "k = torch.rand(N, d)\n",
    "v = torch.rand(N, d)\n",
    "\n",
    "attn_scores = q @ k.T\n",
    "attn_weights = torch.softmax(attn_scores, dim=-1)\n",
    "baseline_out = attn_weights @ v\n",
    "\n",
    "baseline_out.shape"
   ]
  },
  {
   "cell_type": "markdown",
   "id": "63f72acc",
   "metadata": {},
   "source": [
    "### Flash Attention V1\n",
    "\n",
    "Flash Attention at its core is basically exploiting the memory hierarchy of GPU memory system. It breaks the big matrices into blocks that fit into SRAM (on-chip) memory. Please read the [paper](https://arxiv.org/abs/2205.14135) to get more details.\n",
    "<img src=\"images/img3.png\" width=\"500\" height=\"500\">\n",
    "\n",
    "Flash Attention uses the concept of tiling which basically breaks a big block into small chunks which fit into SRAM so that read and writes are super fast keeping the problem compute bound.\n",
    "<img src=\"images/img4.png\" width=\"300\" height=\"300\">\n",
    "\n"
   ]
  },
  {
   "cell_type": "code",
   "execution_count": 3,
   "id": "3243e61a",
   "metadata": {},
   "outputs": [],
   "source": [
    "# flash attention\n",
    "block_size = 5\n",
    "\n",
    "Tr = N//block_size\n",
    "Tc = N//block_size\n",
    "fa_out = torch.zeros_like(q)\n",
    "m = torch.ones(q.shape[0], 1) * float('-inf')\n",
    "l = torch.zeros(q.shape[0], 1)\n",
    "for j in range(Tc):\n",
    "    j_range = range(j*block_size, block_size*(j+1))\n",
    "    kj = k[j_range, :]\n",
    "    vj = v[j_range, :]\n",
    "    for i in range(Tr):\n",
    "        i_range = range(i*block_size, (i+1)*block_size)\n",
    "        qi = q[i_range, :]\n",
    "        Oi = fa_out[i_range, :]\n",
    "        Mi = m[i_range, :]\n",
    "        Li = l[i_range, :]\n",
    "        \n",
    "        Sij = qi @ kj.T\n",
    "        Mij = torch.max(Sij, dim=-1, keepdims=True)[0]\n",
    "        Pij = torch.exp(Sij - Mij)\n",
    "        Lij = torch.sum(Pij, dim=-1, keepdim=True)\n",
    "        \n",
    "        m_new = torch.max(Mi, Mij)\n",
    "        l_new = torch.exp(Mi - m_new) * Li + torch.exp(Mij - m_new) * Lij\n",
    "        Oi = (torch.exp(Mi - m_new) * Li * Oi) + (torch.exp(Mij - m_new) * (Pij @ vj))\n",
    "        fa_out[i_range, :] = Oi / l_new\n",
    "        m[i_range, :] = m_new\n",
    "        l[i_range, :] = l_new\n",
    "        "
   ]
  },
  {
   "cell_type": "markdown",
   "id": "48a26144",
   "metadata": {},
   "source": [
    "### Flash Attention V2\n",
    "Forward pass"
   ]
  },
  {
   "cell_type": "code",
   "execution_count": 11,
   "id": "1d5ef2cc",
   "metadata": {},
   "outputs": [],
   "source": [
    "# flash attention v2\n",
    "block_size = 5\n",
    "\n",
    "Tr = N//block_size\n",
    "Tc = N//block_size\n",
    "fa_v2_out = torch.zeros_like(q)\n",
    "m = torch.ones(q.shape[0], 1) * float('-inf')\n",
    "l = torch.zeros(q.shape[0], 1)\n",
    "for j in range(Tc):\n",
    "    j_range = range(j*block_size, block_size*(j+1))\n",
    "    kj = k[j_range, :]\n",
    "    vj = v[j_range, :]\n",
    "    for i in range(Tr):\n",
    "        i_range = range(i*block_size, (i+1)*block_size)\n",
    "        qi = q[i_range, :]\n",
    "        Oi = fa_v2_out[i_range, :]\n",
    "        Mi = m[i_range, :]\n",
    "        Li = l[i_range, :]\n",
    "        \n",
    "        Sij = qi @ kj.T\n",
    "        Mij = torch.max(Sij, dim=-1, keepdims=True)[0]\n",
    "        m_new = torch.max(Mi, Mij)\n",
    "        Pij = torch.exp(Sij - m_new)\n",
    "        Lij = torch.sum(Pij, dim=-1, keepdim=True)\n",
    "        \n",
    "        \n",
    "        l_new = torch.exp(Mi - m_new) * Li + Lij\n",
    "        Oi = (torch.exp(Mi - m_new) * Oi) + (Pij @ vj)\n",
    "        fa_v2_out[i_range, :] = Oi\n",
    "        m[i_range, :] = m_new\n",
    "        l[i_range, :] = l_new\n",
    "fa_v2_out = fa_v2_out / l"
   ]
  },
  {
   "cell_type": "code",
   "execution_count": 12,
   "id": "179e8869",
   "metadata": {},
   "outputs": [
    {
     "name": "stdout",
     "output_type": "stream",
     "text": [
      "True\n",
      "True\n"
     ]
    }
   ],
   "source": [
    "print(torch.allclose(fa_out, baseline_out))\n",
    "print(torch.allclose(fa_v2_out, baseline_out))"
   ]
  },
  {
   "cell_type": "code",
   "execution_count": null,
   "id": "b5b7c7cb",
   "metadata": {},
   "outputs": [],
   "source": []
  }
 ],
 "metadata": {
  "kernelspec": {
   "display_name": "Python 3 (ipykernel)",
   "language": "python",
   "name": "python3"
  },
  "language_info": {
   "codemirror_mode": {
    "name": "ipython",
    "version": 3
   },
   "file_extension": ".py",
   "mimetype": "text/x-python",
   "name": "python",
   "nbconvert_exporter": "python",
   "pygments_lexer": "ipython3",
   "version": "3.11.5"
  }
 },
 "nbformat": 4,
 "nbformat_minor": 5
}
